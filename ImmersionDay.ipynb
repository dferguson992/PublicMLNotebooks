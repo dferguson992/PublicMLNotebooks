{
 "cells": [
  {
   "cell_type": "code",
   "execution_count": 201,
   "metadata": {},
   "outputs": [],
   "source": [
    "import boto3\n",
    "import sagemaker\n",
    "import numpy as np\n",
    "import pandas as pd\n",
    "from sagemaker import TrainingInput, get_execution_role\n",
    "from sagemaker.xgboost import XGBoost, XGBoostModel"
   ]
  },
  {
   "cell_type": "code",
   "execution_count": 202,
   "metadata": {},
   "outputs": [],
   "source": [
    "bucket='MY-BUCKET-NAME'\n",
    "abalone_df = pd.read_csv(f\"./abalone-dataset.csv\")\n",
    "abalone_df[\"Sex\"] = abalone_df[\"Sex\"].astype(\"category\")\n",
    "\n",
    "abalone_df[\"Sex\"] = abalone_df[\"Sex\"].map(lambda x: 0 if x == \"F\" else (1 if x == \"M\" else -1))\n",
    "\n",
    "train, validate, test = np.split(abalone_df.sample(frac=1), [int(.6*len(abalone_df)), int(.8*len(abalone_df))])\n",
    "train.to_csv(f\"s3://{bucket}/abalone/train.csv\")\n",
    "validate.to_csv(f\"s3://{bucket}/abalone/validate.csv\")\n",
    "test.to_csv(f\"s3://{bucket}/abalone/test.csv\")"
   ]
  },
  {
   "cell_type": "code",
   "execution_count": 237,
   "metadata": {},
   "outputs": [],
   "source": [
    "hyperparameters = {\n",
    "        \"max_depth\": \"6\",\n",
    "        \"eta\": \"0.002722527908770324\",\n",
    "        \"gamma\": \"4\",\n",
    "        \"min_child_weight\": \"6\",\n",
    "        \"subsample\": \"0.7\",\n",
    "        \"objective\": \"reg:linear\",\n",
    "        \"num_round\": \"500\",\n",
    "        \"verbosity\": \"2\",\n",
    "        \"eval_metric\": \"accuracy\",\n",
    "        \"early_stopping_rounds\": \"10\",\n",
    "    }"
   ]
  },
  {
   "cell_type": "code",
   "execution_count": 238,
   "metadata": {},
   "outputs": [],
   "source": [
    "output_path = 's3://{}/{}/{}/output'.format(bucket, \"abalone\", 'abalone-xgb-built-in-algo')\n",
    "xgboost_container = sagemaker.image_uris.retrieve(\"xgboost\", \"us-east-1\", \"1.2-2\")\n",
    "estimator = sagemaker.estimator.Estimator(image_uri=xgboost_container, \n",
    "                                          hyperparameters=hyperparameters,\n",
    "                                          role=sagemaker.get_execution_role(),\n",
    "                                          instance_count=1, \n",
    "                                          instance_type='ml.m5.2xlarge', \n",
    "                                          volume_size=5, # 5 GB \n",
    "                                          output_path=output_path)\n"
   ]
  },
  {
   "cell_type": "code",
   "execution_count": 239,
   "metadata": {},
   "outputs": [],
   "source": [
    "train_input = TrainingInput(f\"s3://{bucket}/abalone/train.csv\", content_type=\"text/csv\")\n",
    "validate_input = TrainingInput(f\"s3://{bucket}/abalone/validate.csv\", content_type=\"text/csv\")\n",
    "test_input = TrainingInput(f\"s3://{bucket}/abalone/test.csv\", content_type=\"text/csv\")"
   ]
  },
  {
   "cell_type": "code",
   "execution_count": 241,
   "metadata": {},
   "outputs": [
    {
     "name": "stdout",
     "output_type": "stream",
     "text": [
      "---------!"
     ]
    }
   ],
   "source": [
    "predictor = estimator.deploy(initial_instance_count=1, instance_type='ml.t2.medium')"
   ]
  },
  {
   "cell_type": "code",
   "execution_count": 242,
   "metadata": {},
   "outputs": [],
   "source": [
    "def predict(data, rows=500):\n",
    "    split_array = np.array_split(data, int(data.shape[0] / float(rows) + 1))\n",
    "    predictions = ''\n",
    "    for array in split_array:\n",
    "        predictions = ','.join([predictions, predictor.predict(array).decode('utf-8')])\n",
    "    \n",
    "    return np.fromstring(predictions[1:], sep=',')"
   ]
  },
  {
   "cell_type": "code",
   "execution_count": 243,
   "metadata": {},
   "outputs": [],
   "source": [
    "test_data = pd.read_csv(f\"s3://{bucket}/abalone/test.csv\")"
   ]
  },
  {
   "cell_type": "code",
   "execution_count": 244,
   "metadata": {},
   "outputs": [],
   "source": [
    "predictor.serializer = sagemaker.serializers.CSVSerializer()\n",
    "predictions = predict(test_data.drop([\"Rings\"], axis=1).to_numpy())"
   ]
  },
  {
   "cell_type": "code",
   "execution_count": 245,
   "metadata": {},
   "outputs": [
    {
     "name": "stdout",
     "output_type": "stream",
     "text": [
      "Mean Squared Error ==> 5.576827549305876\n"
     ]
    }
   ],
   "source": [
    "from sklearn.metrics import mean_squared_error\n",
    "print(\"Mean Squared Error ==> \" + str(np.sqrt(mean_squared_error(test_data[\"Rings\"], predictions))))"
   ]
  },
  {
   "cell_type": "code",
   "execution_count": 248,
   "metadata": {},
   "outputs": [
    {
     "data": {
      "text/plain": [
       "<matplotlib.axes._subplots.AxesSubplot at 0x7fef1b422510>"
      ]
     },
     "execution_count": 248,
     "metadata": {},
     "output_type": "execute_result"
    },
    {
     "data": {
      "image/png": "[encoded data removed]",
      "text/plain": [
       "<Figure size 432x288 with 1 Axes>"
      ]
     },
     "metadata": {
      "needs_background": "light"
     },
     "output_type": "display_data"
    }
   ],
   "source": [
    "d = {'Predictions' : predictions,\n",
    "     'Actual' : test_data[\"Rings\"]}\n",
    "\n",
    "df = pd.DataFrame(d)\n",
    "df.plot(style=['o','rx'])"
   ]
  }
 ],
 "metadata": {
  "instance_type": "ml.t3.medium",
  "kernelspec": {
   "display_name": "Python 3 (Data Science)",
   "language": "python",
   "name": "python3__SAGEMAKER_INTERNAL__arn:aws:sagemaker:us-east-2:429704687514:image/datascience-1.0"
  },
  "language_info": {
   "codemirror_mode": {
    "name": "ipython",
    "version": 3
   },
   "file_extension": ".py",
   "mimetype": "text/x-python",
   "name": "python",
   "nbconvert_exporter": "python",
   "pygments_lexer": "ipython3",
   "version": "3.7.10"
  }
 },
 "nbformat": 4,
 "nbformat_minor": 4
}
